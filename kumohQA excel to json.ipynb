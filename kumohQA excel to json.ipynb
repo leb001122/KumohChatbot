{
 "cells": [
  {
   "cell_type": "code",
   "execution_count": null,
   "id": "e7845e91",
   "metadata": {},
   "outputs": [],
   "source": [
    "import openpyxl\n",
    "import codecs"
   ]
  },
  {
   "cell_type": "code",
   "execution_count": null,
   "id": "1086fe34",
   "metadata": {},
   "outputs": [],
   "source": [
    "excelFile = openpyxl.load_workbook('C:\\sig\\kumohQnA_comment.xlsx')\n",
    "sheet = excelFile.active"
   ]
  },
  {
   "cell_type": "code",
   "execution_count": null,
   "id": "af712177",
   "metadata": {},
   "outputs": [],
   "source": [
    "def replaceToJson(text) :\n",
    "    if text == None:\n",
    "        return \"\"\n",
    "    else:\n",
    "        text = text.replace(\"\\n\", \" \")\n",
    "        text = text.replace('\"', '\\\\\"')\n",
    "        text = text.replace(\"'\", '\\\\\"')\n",
    "        return text"
   ]
  },
  {
   "cell_type": "code",
   "execution_count": null,
   "id": "0a9b90da",
   "metadata": {},
   "outputs": [],
   "source": [
    "def replaceToJson2(text) :\n",
    "    if text == None:\n",
    "        return \"\"\n",
    "    else:\n",
    "        text = text.replace(\"\\n\", \"\\\\n\")\n",
    "        text = text.replace('\"', '\\\\\"')\n",
    "        text = text.replace(\"'\", '\\\\\"')\n",
    "        return text"
   ]
  },
  {
   "cell_type": "code",
   "execution_count": null,
   "id": "b7f68eda",
   "metadata": {},
   "outputs": [],
   "source": [
    "jsonFile = codecs.open('금오공대QA.json', 'w',  'utf-8')\n",
    "jsonFile.write('[' + '\\n')"
   ]
  },
  {
   "cell_type": "code",
   "execution_count": null,
   "id": "6123b61c",
   "metadata": {},
   "outputs": [],
   "source": [
    "# 시트의 각 행을 순서대로 추출하기\n",
    "i = 1\n",
    "max_row = sheet.max_row\n",
    "\n",
    "for row in sheet.rows:\n",
    "    title = replaceToJson(row[0].value)\n",
    "    content = replaceToJson(row[1].value)\n",
    "    comments = replaceToJson2(row[2].value)\n",
    "    if i != max_row:\n",
    "        jsonword = '\\t{\"title\" : \"%s\", \\n\\t\"content\" : \"%s\", \\n\\t\"comments\" : \"%s\"},' % (title, content, comments)\n",
    "    else:\n",
    "        jsonword = '\\t{\"title\" : \"%s\", \\n\\t\"content\" : \"%s\", \\n\\t\"comments\" : \"%s\"}' % (title, content, comments)\n",
    "\n",
    "                                                                                \n",
    "    jsonFile.write(jsonword + '\\n')\n",
    "    i = i + 1\n",
    "    \n",
    "jsonFile.write(']')\n",
    "jsonFile.close()"
   ]
  }
 ],
 "metadata": {
  "kernelspec": {
   "display_name": "Python 3",
   "language": "python",
   "name": "python3"
  },
  "language_info": {
   "codemirror_mode": {
    "name": "ipython",
    "version": 3
   },
   "file_extension": ".py",
   "mimetype": "text/x-python",
   "name": "python",
   "nbconvert_exporter": "python",
   "pygments_lexer": "ipython3",
   "version": "3.6.13"
  }
 },
 "nbformat": 4,
 "nbformat_minor": 5
}
