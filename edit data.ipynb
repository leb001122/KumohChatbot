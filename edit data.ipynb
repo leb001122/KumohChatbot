{
 "cells": [
  {
   "cell_type": "code",
   "execution_count": null,
   "id": "1bd2d7b2",
   "metadata": {},
   "outputs": [],
   "source": [
    "import pandas as pd\n",
    "import json"
   ]
  },
  {
   "cell_type": "code",
   "execution_count": null,
   "id": "25ac8430",
   "metadata": {},
   "outputs": [],
   "source": [
    "kumoh42 = pd.read_json(\"금오사이.json\")\n",
    "kumohQA = pd.read_json(\"금오공대QA.json\")\n",
    "\n",
    "kumoh42['question'] = kumoh42['title'] + '. ' + kumoh42['content']\n",
    "kumohQA['question'] = kumohQA['title'] + '. ' + kumohQA['content']\n",
    "\n",
    "kumoh42 = kumoh42.drop(['title'], axis=1)\n",
    "kumoh42 = kumoh42.drop(['content'], axis=1)\n",
    "kumohQA = kumohQA.drop(['title'], axis=1)\n",
    "kumohQA = kumohQA.drop(['content'], axis=1)"
   ]
  },
  {
   "cell_type": "code",
   "execution_count": null,
   "id": "045c4cb1",
   "metadata": {
    "scrolled": true
   },
   "outputs": [],
   "source": [
    "def kumohQA_dfToJson() : \n",
    "    output = []\n",
    "    i = 0\n",
    "    while True:\n",
    "        if i == 642:\n",
    "            break\n",
    "        json_dic = dict()\n",
    "        json_dic['question'] = kumohQA.iloc[i, 1:2].values[0]\n",
    "        json_obj = dict()\n",
    "        json_obj['comment'] = kumohQA.iloc[i, 0:1].values[0]\n",
    "        json_dic['answer'] = json_obj\n",
    "        output.append(json_dic)\n",
    "        i += 1\n",
    "    return output"
   ]
  },
  {
   "cell_type": "code",
   "execution_count": null,
   "id": "557b8596",
   "metadata": {},
   "outputs": [],
   "source": [
    "output = kumohQA_dfToJson()\n",
    "\n",
    "with open(\"kumohQnA.json\", \"w\", encoding='UTF-8') as json_file:\n",
    "    json.dump(output, json_file, indent=4, ensure_ascii=False)"
   ]
  },
  {
   "cell_type": "code",
   "execution_count": null,
   "id": "acdae71b",
   "metadata": {},
   "outputs": [],
   "source": [
    "def kumoh42_dfToJson() : \n",
    "    output = []\n",
    "    i = 0\n",
    "    while True:\n",
    "        if i == 2699:\n",
    "            break\n",
    "        json_dic = dict()\n",
    "        json_dic['question'] = kumoh42.iloc[i, 1:2].values[0]\n",
    "        json_obj = dict()\n",
    "        json_obj = kumoh42.iloc[i, 0:1].values[0]\n",
    "        print(json_obj)\n",
    "        json_dic['answer'] = json_obj\n",
    "        output.append(json_dic)\n",
    "        i += 1\n",
    "    return output"
   ]
  },
  {
   "cell_type": "code",
   "execution_count": null,
   "id": "5cb8a2a4",
   "metadata": {},
   "outputs": [],
   "source": [
    "output = kumoh42_dfToJson()\n",
    "\n",
    "with open(\"Kumoh42.json\", \"w\", encoding='UTF-8') as json_file:\n",
    "    json.dump(output, json_file, indent=4, ensure_ascii=False)"
   ]
  }
 ],
 "metadata": {
  "kernelspec": {
   "display_name": "sig21",
   "language": "python",
   "name": "sig"
  },
  "language_info": {
   "codemirror_mode": {
    "name": "ipython",
    "version": 3
   },
   "file_extension": ".py",
   "mimetype": "text/x-python",
   "name": "python",
   "nbconvert_exporter": "python",
   "pygments_lexer": "ipython3",
   "version": "3.6.13"
  }
 },
 "nbformat": 4,
 "nbformat_minor": 5
}
