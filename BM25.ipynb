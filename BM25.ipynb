{
 "cells": [
  {
   "cell_type": "code",
   "execution_count": null,
   "id": "511125dd",
   "metadata": {},
   "outputs": [],
   "source": [
    "from tqdm import tqdm\n",
    "import pandas as pd\n",
    "from rank_bm25 import BM25Okapi\n",
    "from konlpy.tag import Okt\n",
    "okt = Okt()"
   ]
  },
  {
   "cell_type": "code",
   "execution_count": null,
   "id": "f17c572c",
   "metadata": {},
   "outputs": [],
   "source": [
    "df = pd.read_json(\"kumohQnA.json\")\n",
    "corpus = df['question']"
   ]
  },
  {
   "cell_type": "code",
   "execution_count": null,
   "id": "7657743a",
   "metadata": {},
   "outputs": [],
   "source": [
    "def tokenizer(sent):\n",
    "  return okt.morphs(sent)\n",
    "\n",
    "def getNouns(query):\n",
    "    return okt.nouns(query)\n",
    "\n",
    "def getDocs(query):\n",
    "    return bm25.get_top_n(getNouns(query), corpus, n=5)"
   ]
  },
  {
   "cell_type": "code",
   "execution_count": null,
   "id": "4227cb32",
   "metadata": {
    "scrolled": true
   },
   "outputs": [],
   "source": [
    "tokenized_corpus = [tokenizer(doc) for doc in tqdm(corpus)]\n",
    "print(tokenized_corpus[:5])"
   ]
  },
  {
   "cell_type": "code",
   "execution_count": null,
   "id": "155bf2ac",
   "metadata": {},
   "outputs": [],
   "source": [
    "bm25 = BM25Okapi(tokenized_corpus)\n",
    "docs = getDocs(\"수강신청 언제부터인가요\")\n",
    "docs"
   ]
  }
 ],
 "metadata": {
  "kernelspec": {
   "display_name": "sig21",
   "language": "python",
   "name": "sig"
  },
  "language_info": {
   "codemirror_mode": {
    "name": "ipython",
    "version": 3
   },
   "file_extension": ".py",
   "mimetype": "text/x-python",
   "name": "python",
   "nbconvert_exporter": "python",
   "pygments_lexer": "ipython3",
   "version": "3.6.13"
  }
 },
 "nbformat": 4,
 "nbformat_minor": 5
}
